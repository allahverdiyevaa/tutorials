{
 "cells": [
  {
   "cell_type": "markdown",
   "metadata": {},
   "source": [
    "# Contrast Effects\n",
    "\n",
    "### Authors\n",
    " Ndèye Gagnessiry Ndiaye and Christin Seifert\n",
    " \n",
    "### License\n",
    "This work is licensed under the Creative Commons Attribution 3.0 Unported License https://creativecommons.org/licenses/by/3.0/\n",
    "\n",
    "This notebook illustrates 3 contrast effects:\n",
    "- Simultaneous Brightness Contrast \n",
    "- Chevreul Illusion \n",
    "- Contrast Crispening"
   ]
  },
  {
   "cell_type": "markdown",
   "metadata": {},
   "source": [
    "## Simultaneous Brightness Contrast\n",
    "\n",
    "Simultaneous Brightness Contrast is the general effect where a gray patch placed on a dark background looks lighter than the same gray patch on a light background (foreground and background affect each other). The effect is based on lateral inhibition.\n",
    "\n",
    "Also see the following video as an example:\n",
    "https://www.youtube.com/watch?v=ZYh4SxE7Xp8"
   ]
  },
  {
   "cell_type": "code",
   "execution_count": 5,
   "metadata": {
    "collapsed": true
   },
   "outputs": [],
   "source": [
    "import numpy as np\n",
    "import matplotlib.pyplot as plt\n"
   ]
  },
  {
   "cell_type": "markdown",
   "metadata": {},
   "source": [
    "The following image shows a gray square on different backgrounds. The inner square always has the same color (84% gray), and is successively shown on 0%, 50%, 100%, and 150% gray background patches. Note, how the inner squares are perceived differently (square on the right looks considerably darker than the square on the left). \n",
    "\n",
    "Suggestion: Change the gray values of the inner and outer squares and see what happens."
   ]
  },
  {
   "cell_type": "code",
   "execution_count": 7,
   "metadata": {},
   "outputs": [
    {
     "data": {
      "image/png": "[encoded data removed]",
      "text/plain": [
       "<matplotlib.figure.Figure at 0x10f8bcc18>"
      ]
     },
     "metadata": {},
     "output_type": "display_data"
    }
   ],
   "source": [
    "# defining the inner square as 3x3 array with an initial gray value\n",
    "inner_gray_value = 120\n",
    "inner_square = np.full((3,3), inner_gray_value, np.double)\n",
    "\n",
    "# defining the outer squares and overlaying the inner square\n",
    "a = np.zeros((5,5), np.double)\n",
    "a[1:4, 1:4] = inner_square\n",
    "\n",
    "b = np.full((5,5), 50, np.double)\n",
    "b[1:4, 1:4] = inner_square\n",
    "\n",
    "c = np.full((5,5), 100, np.double)\n",
    "c[1:4, 1:4] = inner_square\n",
    "\n",
    "d = np.full((5,5), 150, np.double)\n",
    "d[1:4, 1:4] = inner_square\n",
    "\n",
    "simultaneous=np.hstack((a,b,c,d))\n",
    "\n",
    "\n",
    "im=plt.imshow(simultaneous, cmap='gray',interpolation='nearest',vmin=0, vmax=255) \n",
    "#plt.rcParams[\"figure.figsize\"] = (70,10)\n",
    "plt.axis('off')\n",
    "plt.colorbar(im, orientation='horizontal')\n",
    "plt.show()\n"
   ]
  },
  {
   "cell_type": "markdown",
   "metadata": {},
   "source": [
    "## Chevreul Illusion\n",
    "The following images visualizes the Chevreul illusion. We use a sequence of gray bands (200%, 150%, 100%, 75% and 50% gray). One band has a uniform gray value. When putting the bands next to each other, the gray values seem to be darker at the edges. This is due to lateral inhibition, a feature of our visual system that increases edge contrasts and helps us to better detect outlines of shapes."
   ]
  },
  {
   "cell_type": "code",
   "execution_count": 8,
   "metadata": {},
   "outputs": [
    {
     "data": {
      "image/png": "[encoded data removed]",
      "text/plain": [
       "<matplotlib.figure.Figure at 0x1102aa438>"
      ]
     },
     "metadata": {},
     "output_type": "display_data"
    }
   ],
   "source": [
    "e = np.full((9,5), 200, np.double)\n",
    "f = np.full((9,5), 150, np.double)\n",
    "g = np.full((9,5), 100, np.double)\n",
    "h = np.full((9,5), 75, np.double)\n",
    "i = np.full((9,5), 50, np.double)\n",
    "image1= np.hstack((e,f,g,h,i))\n",
    "\n",
    "e[:,4] = 255\n",
    "f[:,4] = 255\n",
    "g[:,4] = 255\n",
    "h[:,4] = 255\n",
    "i[:,4] = 255\n",
    "image2=np.hstack((e,f,g,h,i))\n",
    "\n",
    "plt.subplot(1,2,1)\n",
    "plt.imshow(image1, cmap='gray',vmin=0, vmax=255,interpolation='nearest',aspect=4) \n",
    "plt.title('Bands')\n",
    "plt.axis('off')\n",
    "\n",
    "\n",
    "plt.subplot(1,2,2)\n",
    "plt.imshow(image2, cmap='gray',vmin=0, vmax=255,interpolation='nearest',aspect=4) \n",
    "plt.title('Bands with white breaks')\n",
    "plt.axis('off')\n",
    "\n",
    "plt.show()"
   ]
  },
  {
   "cell_type": "markdown",
   "metadata": {},
   "source": [
    "## Contrast Crispening\n",
    "\n",
    "The following images show the gray strips on a gray-scale background. Left image: All vertical gray bands are the same. Note how different parts of the vertical gray bands are enhanced (i.e., difference better perceivable) depending on the gray value of the background. In fact, differences are enhanced when the gray value in the foreground is closer to the gray value in the background. On the right, the same vertical bands are shown but without the background. In this image you can (perceptually) verify that all vertical gray bands are indeed the same."
   ]
  },
  {
   "cell_type": "code",
   "execution_count": 9,
   "metadata": {},
   "outputs": [
    {
     "data": {
      "image/png": "[encoded data removed]",
      "text/plain": [
       "<matplotlib.figure.Figure at 0x1103c94e0>"
      ]
     },
     "metadata": {},
     "output_type": "display_data"
    }
   ],
   "source": [
    "strips = np.linspace( 0, 255, 10, np.double)  \n",
    "strips = strips.reshape((-1, 1))\n",
    "M = np.linspace( 255, 0, 10, np.double)   \n",
    "n = np.ones((20, 10), np.double)\n",
    "\n",
    "background = n[:,:]*M\n",
    "background[5:15,::2] = strips\n",
    "\n",
    "without_background = np.full((20,10), 255, np.double)\n",
    "without_background[5:15,::2] = strips\n",
    "\n",
    "plt.subplot(1,2,1)\n",
    "plt.imshow(background, cmap='gray',vmin=0, vmax=255,interpolation='nearest') \n",
    "plt.tick_params(axis='both', left='off', top='off', right='off', bottom='off', labelleft='off', labeltop='off', labelright='off', labelbottom='off')\n",
    "\n",
    "\n",
    "plt.subplot(1,2,2)\n",
    "plt.imshow(without_background, cmap='gray',vmin=0, vmax=255,interpolation='nearest')\n",
    "plt.tick_params(axis='both', left='off', top='off', right='off', bottom='off', labelleft='off', labeltop='off', labelright='off', labelbottom='off')\n",
    "\n",
    "\n",
    "plt.show()"
   ]
  },
  {
   "cell_type": "code",
   "execution_count": null,
   "metadata": {
    "collapsed": true
   },
   "outputs": [],
   "source": []
  }
 ],
 "metadata": {
  "anaconda-cloud": {},
  "kernelspec": {
   "display_name": "Python [default]",
   "language": "python",
   "name": "python3"
  },
  "language_info": {
   "codemirror_mode": {
    "name": "ipython",
    "version": 3
   },
   "file_extension": ".py",
   "mimetype": "text/x-python",
   "name": "python",
   "nbconvert_exporter": "python",
   "pygments_lexer": "ipython3",
   "version": "3.5.2"
  }
 },
 "nbformat": 4,
 "nbformat_minor": 2
}
