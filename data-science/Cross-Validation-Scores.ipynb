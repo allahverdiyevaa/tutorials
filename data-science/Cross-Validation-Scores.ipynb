{
 "cells": [
  {
   "cell_type": "markdown",
   "metadata": {},
   "source": [
    "# Evaluation scores vary across data sets\n",
    "\n",
    "License\n",
    "* This work is licensed under the Creative Commons Attribution 3.0 Unported License https://creativecommons.org/licenses/by/3.0/\n",
    "\n",
    "This notebook:\n",
    "* is a simply example on a standard data sets that shows that the error estimates in cross-validation can vary (greatly) in one split."
   ]
  },
  {
   "cell_type": "code",
   "execution_count": 66,
   "metadata": {},
   "outputs": [],
   "source": [
    "# plotting library\n",
    "%matplotlib inline\n",
    "import matplotlib.pyplot as plt\n",
    "\n",
    "from sklearn import datasets\n",
    "from sklearn.model_selection import cross_val_score\n",
    "\n",
    "# some classifiers\n",
    "from sklearn import svm\n",
    "from sklearn.neighbors import KNeighborsClassifier\n",
    "from sklearn import tree\n",
    "import numpy"
   ]
  },
  {
   "cell_type": "code",
   "execution_count": 67,
   "metadata": {},
   "outputs": [],
   "source": [
    "# read the iris data set\n",
    "data = datasets.load_breast_cancer()"
   ]
  },
  {
   "cell_type": "code",
   "execution_count": 68,
   "metadata": {},
   "outputs": [
    {
     "name": "stdout",
     "output_type": "stream",
     "text": [
      "[0.98267623 0.92940109 0.92797784 0.94708706 0.96491228 0.98236235\n",
      " 0.92982456 0.9466633  0.96457219 0.96428571]\n",
      "SVM -- mean: 0.9539762621662449, standard deviation: 0.019828554681133054\n"
     ]
    }
   ],
   "source": [
    "c_svm = svm.SVC(kernel='linear', C=1)\n",
    "scores1 = cross_val_score(c_svm, data.data, data.target, cv=10, scoring='f1_weighted')\n",
    "print(scores1)\n",
    "print(\"SVM -- mean: \" + str(numpy.mean(scores1)) + \", standard deviation: \" + str(numpy.std(scores1)))"
   ]
  },
  {
   "cell_type": "code",
   "execution_count": 69,
   "metadata": {},
   "outputs": [
    {
     "name": "stdout",
     "output_type": "stream",
     "text": [
      "[0.91236333 0.85648471 0.89473684 0.94708706 0.94708706 0.94708706\n",
      " 0.96450925 0.94615252 0.91169154 0.92857143]\n",
      "3-NN -- mean: 0.92557708159848, standard deviation: 0.0307056240140939\n"
     ]
    }
   ],
   "source": [
    "c_knn = KNeighborsClassifier(3)\n",
    "scores2 = cross_val_score(c_knn, data.data, data.target, cv=10, scoring='f1_weighted')\n",
    "print(scores2)\n",
    "print(\"3-NN -- mean: \" + str(numpy.mean(scores2)) + \", standard deviation: \" + str(numpy.std(scores2)))"
   ]
  },
  {
   "cell_type": "code",
   "execution_count": 70,
   "metadata": {},
   "outputs": [
    {
     "name": "stdout",
     "output_type": "stream",
     "text": [
      "[0.94848632 0.86064883 0.92901849 0.87775613 0.96491228 0.89473684\n",
      " 0.84126119 0.9466633  0.92951252 0.98205084]\n",
      "DT -- mean: 0.9175046737000159, standard deviation: 0.044322127764291355\n"
     ]
    }
   ],
   "source": [
    "c_dt = tree.DecisionTreeClassifier()\n",
    "scores3 = cross_val_score(c_dt, data.data, data.target, cv=10, scoring='f1_weighted')\n",
    "print(scores3)\n",
    "print(\"DT -- mean: \" + str(numpy.mean(scores3)) + \", standard deviation: \" + str(numpy.std(scores3)))   "
   ]
  }
 ],
 "metadata": {
  "kernelspec": {
   "display_name": "Python 3",
   "language": "python",
   "name": "python3"
  },
  "language_info": {
   "codemirror_mode": {
    "name": "ipython",
    "version": 3
   },
   "file_extension": ".py",
   "mimetype": "text/x-python",
   "name": "python",
   "nbconvert_exporter": "python",
   "pygments_lexer": "ipython3",
   "version": "3.6.4"
  }
 },
 "nbformat": 4,
 "nbformat_minor": 2
}
