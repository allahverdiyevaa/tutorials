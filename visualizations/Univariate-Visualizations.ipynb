{
 "cells": [
  {
   "cell_type": "markdown",
   "metadata": {},
   "source": [
    "## UNIVARIATE STATISTICS\n",
    "\n",
    "### Authors\n",
    " Ndèye Gagnessiry Ndiaye and Christin Seifert  \n",
    " \n",
    "### License\n",
    "This work is licensed under the Creative Commons Attribution 3.0 Unported License https://creativecommons.org/licenses/by/3.0/ \n",
    "\n",
    "This notebook:\n",
    "\n",
    "- Calculates basic statistics (mean, mode, IQR, var).\n",
    "- Interpretes box plot and histograms for univariate distributions.\n",
    "- Visually compares box plots and interpret the findings.\n",
    "- Interpretes quantile-quantile plots.\n",
    "- Identifies the pros and cons of box plots vs. histograms."
   ]
  },
  {
   "cell_type": "code",
   "execution_count": 1,
   "metadata": {
    "collapsed": true
   },
   "outputs": [],
   "source": [
    "import matplotlib.pyplot as plt\n",
    "import numpy as np\n",
    "import pandas\n",
    "import statistics\n",
    "from statistics import variance\n",
    "from pylab import *"
   ]
  },
  {
   "cell_type": "markdown",
   "metadata": {},
   "source": [
    "## Basic Statistics"
   ]
  },
  {
   "cell_type": "code",
   "execution_count": 2,
   "metadata": {
    "collapsed": true
   },
   "outputs": [],
   "source": [
    "dataset = np.array([5.2, 4.3,2.7,5.0,6.2,4.2,6.3,5.4])"
   ]
  },
  {
   "cell_type": "markdown",
   "metadata": {},
   "source": [
    "We calculate basic statistics (mean, min, max, IQR, variance) for this data set."
   ]
  },
  {
   "cell_type": "code",
   "execution_count": 3,
   "metadata": {},
   "outputs": [
    {
     "data": {
      "text/html": [
       "<div>\n",
       "<style>\n",
       "    .dataframe thead tr:only-child th {\n",
       "        text-align: right;\n",
       "    }\n",
       "\n",
       "    .dataframe thead th {\n",
       "        text-align: left;\n",
       "    }\n",
       "\n",
       "    .dataframe tbody tr th {\n",
       "        vertical-align: top;\n",
       "    }\n",
       "</style>\n",
       "<table border=\"1\" class=\"dataframe\">\n",
       "  <thead>\n",
       "    <tr style=\"text-align: right;\">\n",
       "      <th></th>\n",
       "      <th>Statistics</th>\n",
       "    </tr>\n",
       "  </thead>\n",
       "  <tbody>\n",
       "    <tr>\n",
       "      <th>Min</th>\n",
       "      <td>2.700000</td>\n",
       "    </tr>\n",
       "    <tr>\n",
       "      <th>Mean</th>\n",
       "      <td>4.912500</td>\n",
       "    </tr>\n",
       "    <tr>\n",
       "      <th>1st Qu.</th>\n",
       "      <td>4.275000</td>\n",
       "    </tr>\n",
       "    <tr>\n",
       "      <th>Median</th>\n",
       "      <td>5.100000</td>\n",
       "    </tr>\n",
       "    <tr>\n",
       "      <th>3rd Qu.</th>\n",
       "      <td>5.600000</td>\n",
       "    </tr>\n",
       "    <tr>\n",
       "      <th>Max</th>\n",
       "      <td>6.300000</td>\n",
       "    </tr>\n",
       "    <tr>\n",
       "      <th>Variance</th>\n",
       "      <td>1.384107</td>\n",
       "    </tr>\n",
       "  </tbody>\n",
       "</table>\n",
       "</div>"
      ],
      "text/plain": [
       "          Statistics\n",
       "Min         2.700000\n",
       "Mean        4.912500\n",
       "1st Qu.     4.275000\n",
       "Median      5.100000\n",
       "3rd Qu.     5.600000\n",
       "Max         6.300000\n",
       "Variance    1.384107"
      ]
     },
     "execution_count": 3,
     "metadata": {},
     "output_type": "execute_result"
    }
   ],
   "source": [
    "metric_list = [\"Min\", \"Mean\", \"1st Qu.\",\"Median\",\"3rd Qu.\",\"Max\",\"Variance\"]\n",
    "set_list = [\"Statistics\"]\n",
    "data = np.array([min(dataset),mean(dataset),np.percentile(dataset,25) ,np.percentile(dataset,50),np.percentile(dataset,75), max(dataset),variance(dataset)])\n",
    "pandas.DataFrame(data,metric_list, set_list)"
   ]
  },
  {
   "cell_type": "code",
   "execution_count": 4,
   "metadata": {},
   "outputs": [
    {
     "name": "stdout",
     "output_type": "stream",
     "text": [
      "Interquartile range (IQR) = 1.325\n"
     ]
    }
   ],
   "source": [
    "#Interquartile range\n",
    "print (\"Interquartile range (IQR) =\",np.percentile(dataset,75) - np.percentile(dataset,25)  )"
   ]
  },
  {
   "cell_type": "markdown",
   "metadata": {},
   "source": [
    "We draw the box plot for this data set."
   ]
  },
  {
   "cell_type": "code",
   "execution_count": 5,
   "metadata": {
    "scrolled": true
   },
   "outputs": [
    {
     "data": {
      "image/png": "[encoded data removed]",
      "text/plain": [
       "<matplotlib.figure.Figure at 0x107668cc0>"
      ]
     },
     "metadata": {},
     "output_type": "display_data"
    }
   ],
   "source": [
    "fig = plt.figure(figsize=(9,7))\n",
    "ax = fig.add_subplot(111)\n",
    "ax.spines[\"right\"].set_visible(False)\n",
    "ax.spines[\"top\"].set_visible(False)\n",
    "# Create the boxplot\n",
    "bp = ax.boxplot(dataset)\n",
    "plt.show()"
   ]
  },
  {
   "cell_type": "markdown",
   "metadata": {},
   "source": [
    "The following figure shows three histograms, one with a bin size of 0.5, one with 1 and another one with a bin size of 2. "
   ]
  },
  {
   "cell_type": "code",
   "execution_count": 6,
   "metadata": {},
   "outputs": [
    {
     "data": {
      "image/png": "[encoded data removed]",
      "text/plain": [
       "<matplotlib.figure.Figure at 0x1077516a0>"
      ]
     },
     "metadata": {},
     "output_type": "display_data"
    }
   ],
   "source": [
    "fig = plt.figure(figsize=(12,6))\n",
    "\n",
    "# bin size=0.5\n",
    "ax = fig.add_subplot(131)\n",
    "ax.hist(dataset,bins= np.arange(2.5,7,0.50005), edgecolor = 'black')\n",
    "plt.xlabel('dataset')\n",
    "plt.ylabel('frequency')\n",
    "plt.title('Bin size = 0.5')\n",
    "ax.spines[\"right\"].set_visible(False)\n",
    "ax.spines[\"top\"].set_visible(False)\n",
    "ax.get_xaxis().tick_bottom()   # remove unneeded ticks \n",
    "ax.get_yaxis().tick_left()\n",
    "\n",
    "# bin size=1\n",
    "ax = fig.add_subplot(132)\n",
    "ax.hist(dataset,bins= np.arange(2,8,1.0005), edgecolor = 'black')\n",
    "plt.xlabel('dataset')\n",
    "plt.ylabel('frequency')\n",
    "plt.title('Bin size = 1')\n",
    "ax.spines[\"right\"].set_visible(False)\n",
    "ax.spines[\"top\"].set_visible(False)\n",
    "ax.get_xaxis().tick_bottom()   # remove unneeded ticks \n",
    "ax.get_yaxis().tick_left()\n",
    "\n",
    "# bin size=2\n",
    "ax = fig.add_subplot(133)\n",
    "ax.hist(dataset,bins= np.arange(2,9,2.0005), edgecolor = 'black')\n",
    "plt.xlabel('dataset')\n",
    "plt.ylabel('frequency')\n",
    "plt.title('Bin size = 2')\n",
    "ax.spines[\"right\"].set_visible(False)\n",
    "ax.spines[\"top\"].set_visible(False)\n",
    "ax.get_xaxis().tick_bottom()   # remove unneeded ticks \n",
    "ax.get_yaxis().tick_left()\n",
    "\n",
    "plt.show()"
   ]
  },
  {
   "cell_type": "markdown",
   "metadata": {},
   "source": [
    "## Box Plots"
   ]
  },
  {
   "cell_type": "markdown",
   "metadata": {},
   "source": [
    "Here we want to show what a boxplot can show us if the distribution is known. For this, we compare two different sets of data points sampled from two different distributions. The first set of data points is sampled from a normal distribution with mean 174 and standard deviation of 5, i.e. from N(174,5), the second set sampled from N(180, 10)."
   ]
  },
  {
   "cell_type": "code",
   "execution_count": 7,
   "metadata": {
    "collapsed": true
   },
   "outputs": [],
   "source": [
    "#first data point\n",
    "mu, sigma = 174, 5 # mean and standard deviation of d1\n",
    "d1 = np.random.normal(mu, sigma, 1000)\n",
    "\n",
    "#second data point\n",
    "mu, sigma = 180, 10 # mean and standard deviation of d2\n",
    "d2 = np.random.normal(mu, sigma, 1000)"
   ]
  },
  {
   "cell_type": "markdown",
   "metadata": {},
   "source": [
    "We draw the following box plots of two normal distributions, which clearly (visually) show the difference in the mean/median and the spread (variance) of the distributions."
   ]
  },
  {
   "cell_type": "code",
   "execution_count": 15,
   "metadata": {},
   "outputs": [
    {
     "data": {
      "image/png": "[encoded data removed]",
      "text/plain": [
       "<matplotlib.figure.Figure at 0x10822c898>"
      ]
     },
     "metadata": {},
     "output_type": "display_data"
    }
   ],
   "source": [
    "#Draw the boxplots\n",
    "fig = plt.figure(figsize=(12,6))\n",
    "plt.subplot(121)\n",
    "plt.ylim((min(np.concatenate((d1, d2), axis=0)),max(np.concatenate((d1, d2), axis=0))))\n",
    "bp = plt.boxplot(d1)\n",
    "plt.subplot(122)\n",
    "bp = plt.boxplot(d2)\n",
    "plt.ylim((min(np.concatenate((d1, d2), axis=0)),max(np.concatenate((d1, d2), axis=0))))\n",
    "plt.show()"
   ]
  },
  {
   "cell_type": "markdown",
   "metadata": {},
   "source": [
    "## Boxplot vs. Histogram\n",
    "In this example we want to understand some of the characteristics of boxplots and histograms. For this, we use two simple set of data points and visualize them with a histogramm and with a boxplot."
   ]
  },
  {
   "cell_type": "code",
   "execution_count": 17,
   "metadata": {
    "collapsed": true
   },
   "outputs": [],
   "source": [
    "data1 = np.array([0,2,2,2,3,4,4,4,5])\n",
    "data2 = np.array([0,2,2,3,3,3,4,4,5])"
   ]
  },
  {
   "cell_type": "markdown",
   "metadata": {},
   "source": [
    "The following figure shows the histogram (with minimum value 0, bin size 1) and the boxplot of both data samples."
   ]
  },
  {
   "cell_type": "code",
   "execution_count": 18,
   "metadata": {},
   "outputs": [
    {
     "data": {
      "image/png": "[encoded data removed]",
      "text/plain": [
       "<matplotlib.figure.Figure at 0x119235780>"
      ]
     },
     "metadata": {},
     "output_type": "display_data"
    }
   ],
   "source": [
    "fig = plt.figure(figsize=(9,5))\n",
    "\n",
    "# histogram of data1\n",
    "\n",
    "ax = fig.add_subplot(141)\n",
    "ax.hist(data1,bins= np.arange(0,6,1.0005), edgecolor = 'black')\n",
    "plt.xlabel('data1')\n",
    "plt.ylabel('frequency')\n",
    "plt.title('Histogram of data1')\n",
    "ax.spines[\"right\"].set_visible(False)\n",
    "ax.spines[\"top\"].set_visible(False)\n",
    "ax.get_xaxis().tick_bottom()   # remove unneeded ticks \n",
    "ax.get_yaxis().tick_left()\n",
    "\n",
    "# histogram of data2\n",
    "ax = fig.add_subplot(142)\n",
    "ax.hist(data2,bins= np.arange(0,6,1.0005), edgecolor = 'black')\n",
    "plt.xlabel('data2')\n",
    "plt.ylabel('frequency')\n",
    "plt.title('Histogram of data2')\n",
    "ax.spines[\"right\"].set_visible(False)\n",
    "ax.spines[\"top\"].set_visible(False)\n",
    "ax.get_xaxis().tick_bottom()   # remove unneeded ticks \n",
    "ax.get_yaxis().tick_left()\n",
    "\n",
    "#boxplot of data1\n",
    "plt.subplot(1,4,3)\n",
    "bp = plt.boxplot(data1)\n",
    "\n",
    "#boxplot of data2\n",
    "plt.subplot(1,4,4)\n",
    "bp = plt.boxplot(data2)\n",
    "\n",
    "fig.tight_layout()\n",
    "plt.show()"
   ]
  },
  {
   "cell_type": "markdown",
   "metadata": {},
   "source": [
    "Note that the boxplots are equal, that means for instance, that IQR and median are the same for both samples. Only the histogram shows that the data is actually different."
   ]
  },
  {
   "cell_type": "markdown",
   "metadata": {},
   "source": [
    "## Zipf Distribution"
   ]
  },
  {
   "cell_type": "markdown",
   "metadata": {},
   "source": [
    "Let us now consider another distribution. Simply speaking, the Zipf distribution (also known as the zeta distribution) is a continuous probability distribution that satisfies Zipf’s law: the frequency of an item is inversely proportional to its rank in a frequency table.\n",
    "\n",
    "Parameters:\t\n",
    "- a : float or array_like of floats. Distribution parameter. Should be greater than 1.\n",
    "- size : int or tuple of intsOutput shape. "
   ]
  },
  {
   "cell_type": "code",
   "execution_count": 22,
   "metadata": {},
   "outputs": [
    {
     "data": {
      "text/plain": [
       "array([  32,    1,    1,    1,    3,    3,    1,    1,   13,    1,    2,\n",
       "          1,    1,    2,   11,    5,   36,    3,    1,    1,    2,    9,\n",
       "          2,  340,    2,    1,    2,   23,    2,    1,    4,  136,    1,\n",
       "          1,    4,    1,    7,    1,    3,    2,    3,    2,    1,    5,\n",
       "          3,    4,    1,    2,    2,    1,    1,    2,    5,    1,    1,\n",
       "          2,    1,    1,    1,    3,    6,    5,    1,    1,    2,    1,\n",
       "          8,    1,    1,    2, 5049,    9,    2,    3,    1,  157,  120,\n",
       "          4,    1,    1,   40,    3,    1,    5,    2,    7,    1,   13,\n",
       "          1,    1,   11,    1,    1,   97,  168,    1,    1,    1,    1,\n",
       "          1])"
      ]
     },
     "execution_count": 22,
     "metadata": {},
     "output_type": "execute_result"
    }
   ],
   "source": [
    "a = 1.5 # parameter\n",
    "size= 100\n",
    "data = np.random.zipf(a,size)\n",
    "data"
   ]
  },
  {
   "cell_type": "markdown",
   "metadata": {},
   "source": [
    "The figure below shows the statistics (mean, min, max, median, 1st quartile, 3rd quartile) of the sample of the Zipf distribution. Note, that if you run the above code multiple times, the data array will be different (after all, we just collecting a sample). "
   ]
  },
  {
   "cell_type": "code",
   "execution_count": 23,
   "metadata": {},
   "outputs": [
    {
     "data": {
      "text/html": [
       "<div>\n",
       "<table border=\"1\" class=\"dataframe\">\n",
       "  <thead>\n",
       "    <tr style=\"text-align: right;\">\n",
       "      <th></th>\n",
       "      <th>Statistics</th>\n",
       "    </tr>\n",
       "  </thead>\n",
       "  <tbody>\n",
       "    <tr>\n",
       "      <th>Min</th>\n",
       "      <td>1.00</td>\n",
       "    </tr>\n",
       "    <tr>\n",
       "      <th>1st Qu.</th>\n",
       "      <td>1.00</td>\n",
       "    </tr>\n",
       "    <tr>\n",
       "      <th>Median</th>\n",
       "      <td>2.00</td>\n",
       "    </tr>\n",
       "    <tr>\n",
       "      <th>Mean</th>\n",
       "      <td>64.38</td>\n",
       "    </tr>\n",
       "    <tr>\n",
       "      <th>3rd Qu.</th>\n",
       "      <td>5.00</td>\n",
       "    </tr>\n",
       "    <tr>\n",
       "      <th>Max</th>\n",
       "      <td>5049.00</td>\n",
       "    </tr>\n",
       "  </tbody>\n",
       "</table>\n",
       "</div>"
      ],
      "text/plain": [
       "         Statistics\n",
       "Min            1.00\n",
       "1st Qu.        1.00\n",
       "Median         2.00\n",
       "Mean          64.38\n",
       "3rd Qu.        5.00\n",
       "Max         5049.00"
      ]
     },
     "execution_count": 23,
     "metadata": {},
     "output_type": "execute_result"
    }
   ],
   "source": [
    "metric_list = [\"Min\", \"1st Qu.\",\"Median\", \"Mean\",\"3rd Qu.\",\"Max\"]\n",
    "set_list = [\"Statistics\"]\n",
    "dataset = np.array([min(data),np.percentile(data,25) ,np.percentile(data,50),mean(data), np.percentile(data,75), max(data)])\n",
    "pandas.DataFrame(dataset,metric_list, set_list)"
   ]
  },
  {
   "cell_type": "markdown",
   "metadata": {},
   "source": [
    "The histogram and the boxplot of the Zipf distribution are plotted below."
   ]
  },
  {
   "cell_type": "code",
   "execution_count": 24,
   "metadata": {},
   "outputs": [
    {
     "data": {
      "image/png": "[encoded data removed]",
      "text/plain": [
       "<matplotlib.figure.Figure at 0x11923a6a0>"
      ]
     },
     "metadata": {},
     "output_type": "display_data"
    }
   ],
   "source": [
    "fig = plt.figure(figsize=(12,6))\n",
    "\n",
    "# histogram of data\n",
    "\n",
    "ax = fig.add_subplot(121)\n",
    "ax.hist(data,bins= np.arange(0,100,10), edgecolor = 'black')\n",
    "plt.xlabel('data')\n",
    "plt.ylabel('frequency')\n",
    "plt.title('Histogram of data')\n",
    "ax.spines[\"right\"].set_visible(False)\n",
    "ax.spines[\"top\"].set_visible(False)\n",
    "ax.get_xaxis().tick_bottom()   # remove unneeded ticks \n",
    "ax.get_yaxis().tick_left()\n",
    "\n",
    "#boxplot of data\n",
    "plt.subplot(1,2,2)\n",
    "bp = plt.boxplot(data)\n",
    "\n",
    "\n",
    "plt.show()"
   ]
  }
 ],
 "metadata": {
  "anaconda-cloud": {},
  "kernelspec": {
   "display_name": "Python 3",
   "language": "python",
   "name": "python3"
  },
  "language_info": {
   "codemirror_mode": {
    "name": "ipython",
    "version": 3
   },
   "file_extension": ".py",
   "mimetype": "text/x-python",
   "name": "python",
   "nbconvert_exporter": "python",
   "pygments_lexer": "ipython3",
   "version": "3.5.0"
  }
 },
 "nbformat": 4,
 "nbformat_minor": 2
}
